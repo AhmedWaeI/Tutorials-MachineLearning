{
 "cells": [
  {
   "cell_type": "code",
   "execution_count": 36,
   "id": "bca9226b",
   "metadata": {
    "scrolled": true
   },
   "outputs": [
    {
     "data": {
      "text/plain": [
       "1.0"
      ]
     },
     "execution_count": 36,
     "metadata": {},
     "output_type": "execute_result"
    }
   ],
   "source": [
    "import pandas as pd\n",
    "from sklearn.tree import DecisionTreeClassifier\n",
    "from sklearn.model_selection import train_test_split\n",
    "from sklearn.metrics import accuracy_score\n",
    "MusicData=pd.read_csv('music.csv')\n",
    "Input= MusicData.drop(columns=['genre'])\n",
    "Output=MusicData['genre']\n",
    "input_train,input_test,output_train,output_test=train_test_split(Input,Output,test_size=0.2)\n",
    "Model = DecisionTreeClassifier()\n",
    "Model.fit(input_train,output_train)\n",
    "predict= Model.predict(input_test)\n",
    "accuracy= accuracy_score(output_test,predict)\n",
    "accuracy\n"
   ]
  },
  {
   "cell_type": "code",
   "execution_count": null,
   "id": "8671f546",
   "metadata": {},
   "outputs": [],
   "source": []
  }
 ],
 "metadata": {
  "kernelspec": {
   "display_name": "Python 3 (ipykernel)",
   "language": "python",
   "name": "python3"
  },
  "language_info": {
   "codemirror_mode": {
    "name": "ipython",
    "version": 3
   },
   "file_extension": ".py",
   "mimetype": "text/x-python",
   "name": "python",
   "nbconvert_exporter": "python",
   "pygments_lexer": "ipython3",
   "version": "3.10.9"
  }
 },
 "nbformat": 4,
 "nbformat_minor": 5
}
